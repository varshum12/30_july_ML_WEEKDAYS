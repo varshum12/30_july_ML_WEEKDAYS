{
 "cells": [
  {
   "cell_type": "markdown",
   "id": "64f70b1b",
   "metadata": {},
   "source": [
    "# test  file"
   ]
  },
  {
   "cell_type": "code",
   "execution_count": 1,
   "id": "dcc6b96a",
   "metadata": {},
   "outputs": [],
   "source": [
    "import pandas as pd"
   ]
  },
  {
   "cell_type": "code",
   "execution_count": 2,
   "id": "f3751b6f",
   "metadata": {},
   "outputs": [],
   "source": [
    "import numpy as  np"
   ]
  },
  {
   "cell_type": "code",
   "execution_count": 3,
   "id": "6a2e8849",
   "metadata": {},
   "outputs": [],
   "source": [
    "import seaborn  as  sns"
   ]
  },
  {
   "cell_type": "code",
   "execution_count": 4,
   "id": "ac1da87c",
   "metadata": {},
   "outputs": [],
   "source": [
    "import  matplotlib.pyplot as plt"
   ]
  },
  {
   "cell_type": "code",
   "execution_count": 5,
   "id": "9b1ffcb7",
   "metadata": {},
   "outputs": [],
   "source": [
    "import  sklearn "
   ]
  },
  {
   "cell_type": "code",
   "execution_count": 6,
   "id": "2ffb52ec",
   "metadata": {},
   "outputs": [],
   "source": [
    "import nbformat"
   ]
  },
  {
   "cell_type": "markdown",
   "id": "7c0a4842",
   "metadata": {},
   "source": []
  }
 ],
 "metadata": {
  "kernelspec": {
   "display_name": "venv",
   "language": "python",
   "name": "python3"
  },
  "language_info": {
   "codemirror_mode": {
    "name": "ipython",
    "version": 3
   },
   "file_extension": ".py",
   "mimetype": "text/x-python",
   "name": "python",
   "nbconvert_exporter": "python",
   "pygments_lexer": "ipython3",
   "version": "3.13.5"
  }
 },
 "nbformat": 4,
 "nbformat_minor": 5
}
